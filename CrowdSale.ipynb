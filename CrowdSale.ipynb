{
 "cells": [
  {
   "cell_type": "code",
   "execution_count": null,
   "metadata": {},
   "outputs": [],
   "source": [
    "pragma solidity ^0.5.0;\n",
    "\n",
    "import \"./PupperCoin.sol\";\n",
    "import \"https://github.com/OpenZeppelin/openzeppelin-contracts/blob/master/contracts/crowdsale/Crowdsale.sol\";\n",
    "import \"https://github.com/OpenZeppelin/openzeppelin-contracts/blob/master/contracts/crowdsale/emission/MintedCrowdsale.sol\";\n",
    "import \"https://github.com/OpenZeppelin/openzeppelin-contracts/blob/master/contracts/crowdsale/validation/CappedCrowdsale.sol\";\n",
    "import \"https://github.com/OpenZeppelin/openzeppelin-contracts/blob/master/contracts/crowdsale/validation/TimedCrowdsale.sol\";\n",
    "import \"https://github.com/OpenZeppelin/openzeppelin-contracts/blob/master/contracts/crowdsale/distribution/RefundablePostDeliveryCrowdsale.sol\";\n",
    "\n",
    "// @TODO: Inherit the crowdsale contracts\n",
    "contract PupperCoinSale is Crowdsale, MintedCrowdsale, CappedCrowdsale, TimedCrowdsale, RefundablePostDeliveryCrowdsale {\n",
    "\n",
    "    constructor(\n",
    "        \n",
    "        // @TODO: Fill in the constructor parameters!\n",
    "    )\n",
    "        // @TODO: Pass the constructor parameters to the crowdsale contracts.\n",
    "        public\n",
    "    {\n",
    "        // constructor can stay empty\n",
    "    }\n",
    "}\n",
    "\n",
    "contract PupperCoinSaleDeployer {\n",
    "\n",
    "    address public token_sale_address;\n",
    "    address public token_address;\n",
    "\n",
    "    constructor(\n",
    "        // @TODO: Fill in the constructor parameters!\n",
    "    )\n",
    "        public\n",
    "    {\n",
    "        // @TODO: create the PupperCoin and keep its address handy\n",
    "\n",
    "        // @TODO: create the PupperCoinSale and tell it about the token, set the goal, and set the open and close times to now and now + 24 weeks.\n",
    "\n",
    "        // make the PupperCoinSale contract a minter, then have the PupperCoinSaleDeployer renounce its minter role\n",
    "        token.addMinter(token_sale_address);\n",
    "        token.renounceMinter();\n",
    "    }\n",
    "}"
   ]
  }
 ],
 "metadata": {
  "kernelspec": {
   "display_name": "Python 3",
   "language": "python",
   "name": "python3"
  },
  "language_info": {
   "codemirror_mode": {
    "name": "ipython",
    "version": 3
   },
   "file_extension": ".py",
   "mimetype": "text/x-python",
   "name": "python",
   "nbconvert_exporter": "python",
   "pygments_lexer": "ipython3",
   "version": "3.7.4"
  }
 },
 "nbformat": 4,
 "nbformat_minor": 4
}
